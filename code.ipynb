{
 "cells": [
  {
   "cell_type": "code",
   "execution_count": 3,
   "id": "b6c1f185-66c5-43c9-914a-56a6cbd1f265",
   "metadata": {},
   "outputs": [
    {
     "name": "stdout",
     "output_type": "stream",
     "text": [
      "Requirement already satisfied: boto3 in c:\\users\\abdul rahim\\anaconda3\\lib\\site-packages (1.35.53)\n",
      "Requirement already satisfied: botocore<1.36.0,>=1.35.53 in c:\\users\\abdul rahim\\anaconda3\\lib\\site-packages (from boto3) (1.35.53)\n",
      "Requirement already satisfied: jmespath<2.0.0,>=0.7.1 in c:\\users\\abdul rahim\\anaconda3\\lib\\site-packages (from boto3) (1.0.1)\n",
      "Requirement already satisfied: s3transfer<0.11.0,>=0.10.0 in c:\\users\\abdul rahim\\anaconda3\\lib\\site-packages (from boto3) (0.10.3)\n",
      "Requirement already satisfied: python-dateutil<3.0.0,>=2.1 in c:\\users\\abdul rahim\\anaconda3\\lib\\site-packages (from botocore<1.36.0,>=1.35.53->boto3) (2.9.0.post0)\n",
      "Requirement already satisfied: urllib3!=2.2.0,<3,>=1.25.4 in c:\\users\\abdul rahim\\anaconda3\\lib\\site-packages (from botocore<1.36.0,>=1.35.53->boto3) (2.2.2)\n",
      "Requirement already satisfied: six>=1.5 in c:\\users\\abdul rahim\\anaconda3\\lib\\site-packages (from python-dateutil<3.0.0,>=2.1->botocore<1.36.0,>=1.35.53->boto3) (1.16.0)\n"
     ]
    }
   ],
   "source": [
    "!pip install boto3\n",
    "\n"
   ]
  },
  {
   "cell_type": "code",
   "execution_count": 5,
   "id": "9df39386-3c02-47fb-aa3b-bc10540953ca",
   "metadata": {},
   "outputs": [
    {
     "name": "stdout",
     "output_type": "stream",
     "text": [
      "1.35.53\n"
     ]
    }
   ],
   "source": [
    "import boto3\n",
    "print(boto3.__version__)\n"
   ]
  },
  {
   "cell_type": "code",
   "execution_count": 3,
   "id": "44094d43-8cd2-4422-893c-434b6fdb4f74",
   "metadata": {},
   "outputs": [
    {
     "name": "stdout",
     "output_type": "stream",
     "text": [
      "Requirement already satisfied: awscli in c:\\users\\abdul rahim\\anaconda3\\lib\\site-packages (1.35.19)\n",
      "Requirement already satisfied: botocore==1.35.53 in c:\\users\\abdul rahim\\anaconda3\\lib\\site-packages (from awscli) (1.35.53)\n",
      "Requirement already satisfied: docutils<0.17,>=0.10 in c:\\users\\abdul rahim\\anaconda3\\lib\\site-packages (from awscli) (0.16)\n",
      "Requirement already satisfied: s3transfer<0.11.0,>=0.10.0 in c:\\users\\abdul rahim\\anaconda3\\lib\\site-packages (from awscli) (0.10.3)\n",
      "Requirement already satisfied: PyYAML<6.1,>=3.10 in c:\\users\\abdul rahim\\anaconda3\\lib\\site-packages (from awscli) (6.0.1)\n",
      "Requirement already satisfied: colorama<0.4.7,>=0.2.5 in c:\\users\\abdul rahim\\anaconda3\\lib\\site-packages (from awscli) (0.4.6)\n",
      "Requirement already satisfied: rsa<4.8,>=3.1.2 in c:\\users\\abdul rahim\\anaconda3\\lib\\site-packages (from awscli) (4.7.2)\n",
      "Requirement already satisfied: jmespath<2.0.0,>=0.7.1 in c:\\users\\abdul rahim\\anaconda3\\lib\\site-packages (from botocore==1.35.53->awscli) (1.0.1)\n",
      "Requirement already satisfied: python-dateutil<3.0.0,>=2.1 in c:\\users\\abdul rahim\\anaconda3\\lib\\site-packages (from botocore==1.35.53->awscli) (2.9.0.post0)\n",
      "Requirement already satisfied: urllib3!=2.2.0,<3,>=1.25.4 in c:\\users\\abdul rahim\\anaconda3\\lib\\site-packages (from botocore==1.35.53->awscli) (2.2.2)\n",
      "Requirement already satisfied: pyasn1>=0.1.3 in c:\\users\\abdul rahim\\anaconda3\\lib\\site-packages (from rsa<4.8,>=3.1.2->awscli) (0.4.8)\n",
      "Requirement already satisfied: six>=1.5 in c:\\users\\abdul rahim\\anaconda3\\lib\\site-packages (from python-dateutil<3.0.0,>=2.1->botocore==1.35.53->awscli) (1.16.0)\n"
     ]
    }
   ],
   "source": [
    "!pip install awscli\n"
   ]
  },
  {
   "cell_type": "code",
   "execution_count": null,
   "id": "ef9fd0a9-bcb5-4f5d-bb33-31fa30e35047",
   "metadata": {},
   "outputs": [
    {
     "name": "stdout",
     "output_type": "stream",
     "text": [
      "The bucket does not exist .\n",
      "Bucket 'myfilesupload432' created successfully.\n",
      "file 2.txt has been uploaded to myfilesupload432\n",
      "file 3.txt has been uploaded to myfilesupload432\n",
      "sample_file.txt has been uploaded to myfilesupload432\n"
     ]
    }
   ],
   "source": [
    "import boto3\n",
    "import os\n",
    "import time\n",
    "from botocore.client import ClientError\n",
    "\n",
    "access_key = \"YOUR-ACCESS-KEY\" #Give your acces key \n",
    "secret_key = \"YOUR-SECRET-KEY\" #Give your secret key \n",
    "bucket_name = \"myfilesupload432\"\n",
    "region = \"us-west-1\"  \n",
    "\n",
    "s3 = boto3.client(\n",
    "    's3',\n",
    "    aws_access_key_id=access_key,\n",
    "    aws_secret_access_key=secret_key,\n",
    "    region_name=region\n",
    ")\n",
    "\n",
    "try:\n",
    "    s3.head_bucket(Bucket=bucket_name)\n",
    "    bucket_exist = 'Yes'\n",
    "    print(\"Bucket already exists.\")\n",
    "except ClientError:\n",
    "    bucket_exist = 'No'\n",
    "    print(\"The bucket does not exist .\")\n",
    "\n",
    "if bucket_exist == 'No':\n",
    "    try:\n",
    "        location = {'LocationConstraint': region}\n",
    "        s3.create_bucket(Bucket=bucket_name, CreateBucketConfiguration=location)\n",
    "        print(f\"Bucket '{bucket_name}' created successfully.\")\n",
    "    except ClientError as e:\n",
    "        print(e)\n",
    "        print(f\"{bucket_name} cannot be created on S3\")\n",
    "    except:\n",
    "        print(f\"{bucket_name} cannot be created on S3\")\n",
    "\n",
    "folder_path = r\"C:\\Users\\Abdul rahim\\Documents\\awsfiles\"\n",
    "\n",
    "interval = 10  \n",
    "\n",
    "for file_name in os.listdir(folder_path):\n",
    "    file_path = os.path.join(folder_path, file_name)\n",
    "    if os.path.isfile(file_path):\n",
    "        s3.upload_file(file_path, bucket_name, file_name)\n",
    "        print(f\"{file_name} has been uploaded to {bucket_name}\")\n",
    "        time.sleep(interval)  \n"
   ]
  }
 ],
 "metadata": {
  "kernelspec": {
   "display_name": "Python 3 (ipykernel)",
   "language": "python",
   "name": "python3"
  },
  "language_info": {
   "codemirror_mode": {
    "name": "ipython",
    "version": 3
   },
   "file_extension": ".py",
   "mimetype": "text/x-python",
   "name": "python",
   "nbconvert_exporter": "python",
   "pygments_lexer": "ipython3",
   "version": "3.12.4"
  }
 },
 "nbformat": 4,
 "nbformat_minor": 5
}
